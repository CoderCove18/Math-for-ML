{
  "nbformat": 4,
  "nbformat_minor": 0,
  "metadata": {
    "colab": {
      "provenance": [],
      "authorship_tag": "ABX9TyOIZEosqOJ41bcvehD0gFCJ",
      "include_colab_link": true
    },
    "kernelspec": {
      "name": "python3",
      "display_name": "Python 3"
    },
    "language_info": {
      "name": "python"
    }
  },
  "cells": [
    {
      "cell_type": "markdown",
      "metadata": {
        "id": "view-in-github",
        "colab_type": "text"
      },
      "source": [
        "<a href=\"https://colab.research.google.com/github/SachinScaler/Nov23_MathsForML/blob/main/Linear%20Algebra%202%3A%20Vectors%2C%20Dot%20Products%20and%20Hyperplanes.ipynb\" target=\"_parent\"><img src=\"https://colab.research.google.com/assets/colab-badge.svg\" alt=\"Open In Colab\"/></a>"
      ]
    },
    {
      "cell_type": "code",
      "execution_count": 2,
      "metadata": {
        "colab": {
          "base_uri": "https://localhost:8080/"
        },
        "id": "M2x8AEyW1eRZ",
        "outputId": "71a42cb4-a4c5-471f-ff6f-03c9636bde1f"
      },
      "outputs": [
        {
          "output_type": "execute_result",
          "data": {
            "text/plain": [
              "19"
            ]
          },
          "metadata": {},
          "execution_count": 2
        }
      ],
      "source": [
        "import numpy as np\n",
        "x= [1,2]\n",
        "y = [5,7]\n",
        "\n",
        "np.dot(x,y)"
      ]
    },
    {
      "cell_type": "markdown",
      "source": [
        "### Operation in numpy are highly parallized(Vectorized)"
      ],
      "metadata": {
        "id": "QsM2F2oD2L2N"
      }
    },
    {
      "cell_type": "code",
      "source": [
        "dot_p=0\n",
        "for i,j in zip(x,y):\n",
        "    dot_p+=(i*j)\n",
        "dot_p"
      ],
      "metadata": {
        "colab": {
          "base_uri": "https://localhost:8080/"
        },
        "id": "sml3dJZX1hYW",
        "outputId": "2032a1e0-0b73-449d-a61c-3aab7a78f90b"
      },
      "execution_count": 4,
      "outputs": [
        {
          "output_type": "execute_result",
          "data": {
            "text/plain": [
              "19"
            ]
          },
          "metadata": {},
          "execution_count": 4
        }
      ]
    },
    {
      "cell_type": "code",
      "source": [],
      "metadata": {
        "id": "9vK0lACB1vMz"
      },
      "execution_count": null,
      "outputs": []
    }
  ]
}