{
  "nbformat": 4,
  "nbformat_minor": 0,
  "metadata": {
    "colab": {
      "provenance": [],
      "authorship_tag": "ABX9TyMtz9k4MaRHFJQayOGf6pxl",
      "include_colab_link": true
    },
    "kernelspec": {
      "name": "python3",
      "display_name": "Python 3"
    },
    "language_info": {
      "name": "python"
    }
  },
  "cells": [
    {
      "cell_type": "markdown",
      "metadata": {
        "id": "view-in-github",
        "colab_type": "text"
      },
      "source": [
        "<a href=\"https://colab.research.google.com/github/SachinScaler/Nov23_MathsForML/blob/main/LA4_Loss_Minimization.ipynb\" target=\"_parent\"><img src=\"https://colab.research.google.com/assets/colab-badge.svg\" alt=\"Open In Colab\"/></a>"
      ]
    },
    {
      "cell_type": "markdown",
      "source": [
        "Recap:"
      ],
      "metadata": {
        "id": "2FvMJvA03hct"
      }
    },
    {
      "cell_type": "code",
      "execution_count": 3,
      "metadata": {
        "colab": {
          "base_uri": "https://localhost:8080/"
        },
        "id": "A7wyfO9i3JiI",
        "outputId": "04259dc2-ed2e-41c7-ebe7-fcbe14e9778f"
      },
      "outputs": [
        {
          "output_type": "stream",
          "name": "stdout",
          "text": [
            "3.7416573867739413\n"
          ]
        }
      ],
      "source": [
        "import numpy as np\n",
        "x = [1,2,3]\n",
        "\n",
        "# l2 Norm\n",
        "norm_x = np.linalg.norm(x)\n",
        "print(norm_x)"
      ]
    },
    {
      "cell_type": "code",
      "source": [
        "#help(np.linalg)"
      ],
      "metadata": {
        "id": "IoP7Qkoo9WxP"
      },
      "execution_count": 5,
      "outputs": []
    },
    {
      "cell_type": "code",
      "source": [
        "# dot product\n",
        "x = [1,2,3]\n",
        "y = [1,2,3]\n",
        "dot_p = np.dot(x,y)\n",
        "print(dot_p)"
      ],
      "metadata": {
        "colab": {
          "base_uri": "https://localhost:8080/"
        },
        "id": "ydvHgaRg-eJK",
        "outputId": "24a6ea34-7459-49af-9260-1dcb17d5726a"
      },
      "execution_count": 7,
      "outputs": [
        {
          "output_type": "stream",
          "name": "stdout",
          "text": [
            "14\n"
          ]
        }
      ]
    },
    {
      "cell_type": "code",
      "source": [
        "# use numpy to calculate angle between two vector # math.acos"
      ],
      "metadata": {
        "id": "OnHH7PDn_Uwq"
      },
      "execution_count": null,
      "outputs": []
    },
    {
      "cell_type": "markdown",
      "source": [],
      "metadata": {
        "id": "70tRPlSm4NEB"
      }
    }
  ]
}